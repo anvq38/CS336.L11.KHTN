{
  "nbformat": 4,
  "nbformat_minor": 0,
  "metadata": {
    "colab": {
      "name": "Final_TruyVan.ipynb",
      "provenance": [],
      "collapsed_sections": [],
      "authorship_tag": "ABX9TyO70ta4sfZdzn8K+XfYr4Wp",
      "include_colab_link": true
    },
    "kernelspec": {
      "display_name": "Python 3",
      "name": "python3"
    }
  },
  "cells": [
    {
      "cell_type": "markdown",
      "metadata": {
        "id": "view-in-github",
        "colab_type": "text"
      },
      "source": [
        "<a href=\"https://colab.research.google.com/github/anvq38/CS336.L11.KHTN/blob/main/Final_TruyVan.ipynb\" target=\"_parent\"><img src=\"https://colab.research.google.com/assets/colab-badge.svg\" alt=\"Open In Colab\"/></a>"
      ]
    },
    {
      "cell_type": "code",
      "metadata": {
        "colab": {
          "base_uri": "https://localhost:8080/"
        },
        "id": "q1Xip2OvaaMG",
        "outputId": "a65b5fc4-aa52-4013-b346-19e14dacb692"
      },
      "source": [
        "from google.colab import drive\r\n",
        "drive.mount('/content/drive')"
      ],
      "execution_count": 1,
      "outputs": [
        {
          "output_type": "stream",
          "text": [
            "Mounted at /content/drive\n"
          ],
          "name": "stdout"
        }
      ]
    },
    {
      "cell_type": "code",
      "metadata": {
        "colab": {
          "base_uri": "https://localhost:8080/"
        },
        "id": "ECa98k4sahI0",
        "outputId": "2d7f3aba-fca2-47eb-a3de-48763ce472b8"
      },
      "source": [
        "!pip install librosa python_speech_features flask_ngrok flask Flask annoy"
      ],
      "execution_count": 2,
      "outputs": [
        {
          "output_type": "stream",
          "text": [
            "Requirement already satisfied: librosa in /usr/local/lib/python3.6/dist-packages (0.6.3)\n",
            "Collecting python_speech_features\n",
            "  Downloading https://files.pythonhosted.org/packages/ff/d1/94c59e20a2631985fbd2124c45177abaa9e0a4eee8ba8a305aa26fc02a8e/python_speech_features-0.6.tar.gz\n",
            "Collecting flask_ngrok\n",
            "  Downloading https://files.pythonhosted.org/packages/af/6c/f54cb686ad1129e27d125d182f90f52b32f284e6c8df58c1bae54fa1adbc/flask_ngrok-0.0.25-py3-none-any.whl\n",
            "Requirement already satisfied: flask in /usr/local/lib/python3.6/dist-packages (1.1.2)\n",
            "Collecting annoy\n",
            "\u001b[?25l  Downloading https://files.pythonhosted.org/packages/a1/5b/1c22129f608b3f438713b91cd880dc681d747a860afe3e8e0af86e921942/annoy-1.17.0.tar.gz (646kB)\n",
            "\u001b[K     |████████████████████████████████| 655kB 5.2MB/s \n",
            "\u001b[?25hRequirement already satisfied: scipy>=1.0.0 in /usr/local/lib/python3.6/dist-packages (from librosa) (1.4.1)\n",
            "Requirement already satisfied: audioread>=2.0.0 in /usr/local/lib/python3.6/dist-packages (from librosa) (2.1.9)\n",
            "Requirement already satisfied: scikit-learn!=0.19.0,>=0.14.0 in /usr/local/lib/python3.6/dist-packages (from librosa) (0.22.2.post1)\n",
            "Requirement already satisfied: numba>=0.38.0 in /usr/local/lib/python3.6/dist-packages (from librosa) (0.48.0)\n",
            "Requirement already satisfied: joblib>=0.12 in /usr/local/lib/python3.6/dist-packages (from librosa) (1.0.0)\n",
            "Requirement already satisfied: decorator>=3.0.0 in /usr/local/lib/python3.6/dist-packages (from librosa) (4.4.2)\n",
            "Requirement already satisfied: numpy>=1.8.0 in /usr/local/lib/python3.6/dist-packages (from librosa) (1.19.5)\n",
            "Requirement already satisfied: resampy>=0.2.0 in /usr/local/lib/python3.6/dist-packages (from librosa) (0.2.2)\n",
            "Requirement already satisfied: six>=1.3 in /usr/local/lib/python3.6/dist-packages (from librosa) (1.15.0)\n",
            "Requirement already satisfied: requests in /usr/local/lib/python3.6/dist-packages (from flask_ngrok) (2.23.0)\n",
            "Requirement already satisfied: Jinja2>=2.10.1 in /usr/local/lib/python3.6/dist-packages (from flask) (2.11.2)\n",
            "Requirement already satisfied: click>=5.1 in /usr/local/lib/python3.6/dist-packages (from flask) (7.1.2)\n",
            "Requirement already satisfied: Werkzeug>=0.15 in /usr/local/lib/python3.6/dist-packages (from flask) (1.0.1)\n",
            "Requirement already satisfied: itsdangerous>=0.24 in /usr/local/lib/python3.6/dist-packages (from flask) (1.1.0)\n",
            "Requirement already satisfied: llvmlite<0.32.0,>=0.31.0dev0 in /usr/local/lib/python3.6/dist-packages (from numba>=0.38.0->librosa) (0.31.0)\n",
            "Requirement already satisfied: setuptools in /usr/local/lib/python3.6/dist-packages (from numba>=0.38.0->librosa) (51.1.1)\n",
            "Requirement already satisfied: certifi>=2017.4.17 in /usr/local/lib/python3.6/dist-packages (from requests->flask_ngrok) (2020.12.5)\n",
            "Requirement already satisfied: chardet<4,>=3.0.2 in /usr/local/lib/python3.6/dist-packages (from requests->flask_ngrok) (3.0.4)\n",
            "Requirement already satisfied: urllib3!=1.25.0,!=1.25.1,<1.26,>=1.21.1 in /usr/local/lib/python3.6/dist-packages (from requests->flask_ngrok) (1.24.3)\n",
            "Requirement already satisfied: idna<3,>=2.5 in /usr/local/lib/python3.6/dist-packages (from requests->flask_ngrok) (2.10)\n",
            "Requirement already satisfied: MarkupSafe>=0.23 in /usr/local/lib/python3.6/dist-packages (from Jinja2>=2.10.1->flask) (1.1.1)\n",
            "Building wheels for collected packages: python-speech-features, annoy\n",
            "  Building wheel for python-speech-features (setup.py) ... \u001b[?25l\u001b[?25hdone\n",
            "  Created wheel for python-speech-features: filename=python_speech_features-0.6-cp36-none-any.whl size=5890 sha256=67f73261c871769743bd21962b9a2e5fb3e77c2aa5ce6b63968650622b951124\n",
            "  Stored in directory: /root/.cache/pip/wheels/3c/42/7c/f60e9d1b40015cd69b213ad90f7c18a9264cd745b9888134be\n",
            "  Building wheel for annoy (setup.py) ... \u001b[?25l\u001b[?25hdone\n",
            "  Created wheel for annoy: filename=annoy-1.17.0-cp36-cp36m-linux_x86_64.whl size=390361 sha256=b45a727d951762db9f20723f7667dd8ca57aa87b3206f7b7ffd12334d385a31c\n",
            "  Stored in directory: /root/.cache/pip/wheels/3a/c5/59/cce7e67b52c8e987389e53f917b6bb2a9d904a03246fadcb1e\n",
            "Successfully built python-speech-features annoy\n",
            "Installing collected packages: python-speech-features, flask-ngrok, annoy\n",
            "Successfully installed annoy-1.17.0 flask-ngrok-0.0.25 python-speech-features-0.6\n"
          ],
          "name": "stdout"
        }
      ]
    },
    {
      "cell_type": "code",
      "metadata": {
        "id": "K5T36KBta1G2"
      },
      "source": [
        "import os\r\n",
        "import glob\r\n",
        "import librosa\r\n",
        "from tqdm import tqdm\r\n",
        "import numpy as np\r\n",
        "from python_speech_features import mfcc, fbank, logfbank\r\n",
        "import pickle\r\n",
        "from IPython.display import Audio\r\n",
        "import pickle\r\n",
        "from annoy import AnnoyIndex\r\n",
        "import time\r\n",
        "from collections import Counter\r\n",
        "from flask import Flask, flash, request, redirect, url_for, render_template\r\n",
        "from werkzeug.utils import secure_filename\r\n",
        "from flask_ngrok import run_with_ngrok"
      ],
      "execution_count": 3,
      "outputs": []
    },
    {
      "cell_type": "code",
      "metadata": {
        "id": "GQlQgad4a3jJ"
      },
      "source": [
        "song = '/content/drive/MyDrive/SongData/Bông Hoa Đẹp Nhất.mp3'\r\n",
        "y, sr = librosa.load(song, sr=16000)"
      ],
      "execution_count": 38,
      "outputs": []
    },
    {
      "cell_type": "code",
      "metadata": {
        "colab": {
          "base_uri": "https://localhost:8080/"
        },
        "id": "2mScSWlWbGaA",
        "outputId": "01d97d64-89ff-4ba1-b5aa-1144e87eebdb"
      },
      "source": [
        "print(y)"
      ],
      "execution_count": 39,
      "outputs": [
        {
          "output_type": "stream",
          "text": [
            "[ 8.1506022e-07 -3.9518400e-06 -2.4500309e-06 ...  2.0912436e-05\n",
            " -1.1530862e-05  0.0000000e+00]\n"
          ],
          "name": "stdout"
        }
      ]
    },
    {
      "cell_type": "code",
      "metadata": {
        "id": "3q9Jm2wAa9yn"
      },
      "source": [
        "def extract_features(y, sr=16000, nfilt=10, winsteps=0.02):\r\n",
        "    try:\r\n",
        "        feat = mfcc(y, sr, nfilt=nfilt, winstep=winsteps)\r\n",
        "        return feat\r\n",
        "    except:\r\n",
        "        raise Exception(\"Extraction feature error\")"
      ],
      "execution_count": 40,
      "outputs": []
    },
    {
      "cell_type": "code",
      "metadata": {
        "id": "HF830g3ca_qj"
      },
      "source": [
        "def crop_feature(feat, i = 0, nb_step=10, maxlen=100):\r\n",
        "    crop_feat = np.array(feat[i : i + nb_step]).flatten()\r\n",
        "    #print(crop_feat.shape)\r\n",
        "    crop_feat = np.pad(crop_feat, (0, maxlen - len(crop_feat)), mode='constant')\r\n",
        "    return crop_feat"
      ],
      "execution_count": 41,
      "outputs": []
    },
    {
      "cell_type": "code",
      "metadata": {
        "colab": {
          "base_uri": "https://localhost:8080/"
        },
        "id": "mE3My_YNbMw1",
        "outputId": "28a7df76-e74a-45d6-b2fd-13f80f772665"
      },
      "source": [
        "y, sr = librosa.load('/content/drive/MyDrive/HocKy5/TruyVan/Final_TruyVan/DenDaKhongDuongBeat-AMee-Cut2.mp3', sr=16000)\r\n",
        "feat = extract_features(y)\r\n",
        "print(feat.shape)\r\n",
        "#print(crop_feature(feat))"
      ],
      "execution_count": 42,
      "outputs": [
        {
          "output_type": "stream",
          "text": [
            "(4950, 10)\n"
          ],
          "name": "stdout"
        }
      ]
    },
    {
      "cell_type": "code",
      "metadata": {
        "id": "2PqIVoShb0tf"
      },
      "source": [
        "data_dir = '/content/drive/MyDrive/SongData'"
      ],
      "execution_count": 43,
      "outputs": []
    },
    {
      "cell_type": "code",
      "metadata": {
        "id": "dwBjjulTbQcb"
      },
      "source": [
        "def Load_songs(data_dir):\r\n",
        "  features = []\r\n",
        "  songs = []\r\n",
        "  for song in tqdm(os.listdir(data_dir)):\r\n",
        "    if song.endswith('.mp3') or song.endswith('.MP3'):\r\n",
        "      song = os.path.join(data_dir, song)\r\n",
        "      y, sr = librosa.load(song, sr=16000)\r\n",
        "      feat = extract_features(y)\r\n",
        "      for i in range(0, feat.shape[0] - 10, 5):\r\n",
        "        features.append(crop_feature(feat, i, nb_step=10))\r\n",
        "        songs.append(song[32:])\r\n",
        "  return features, songs"
      ],
      "execution_count": null,
      "outputs": []
    },
    {
      "cell_type": "code",
      "metadata": {
        "colab": {
          "background_save": true,
          "base_uri": "https://localhost:8080/"
        },
        "id": "MqTNQYs3cC0j",
        "outputId": "52ecac8f-0d16-41d3-f2b8-294a7ea0968d"
      },
      "source": [
        "Features, Songs = Load_songs(data_dir)"
      ],
      "execution_count": null,
      "outputs": [
        {
          "output_type": "stream",
          "text": [
            "100%|██████████| 1070/1070 [4:13:11<00:00, 14.20s/it]\n"
          ],
          "name": "stderr"
        }
      ]
    },
    {
      "cell_type": "code",
      "metadata": {
        "id": "gcX0AFxEcTmk"
      },
      "source": [
        "pickle.dump(Features, open('/content/drive/MyDrive/HocKy5/TruyVan/Final_TruyVan/features.pk', 'wb'))\r\n",
        "\r\n",
        "pickle.dump(Songs, open('/content/drive/MyDrive/HocKy5/TruyVan/Final_TruyVan/songs.pk', 'wb'))"
      ],
      "execution_count": null,
      "outputs": []
    },
    {
      "cell_type": "code",
      "metadata": {
        "id": "BNIEKGyDVKgA"
      },
      "source": [
        "Features = pickle.load(open('/content/drive/MyDrive/HocKy5/TruyVan/Final_TruyVan/features.pk', 'rb'))\r\n",
        "Songs = pickle.load(open('/content/drive/MyDrive/HocKy5/TruyVan/Final_TruyVan/songs.pk', 'rb'))"
      ],
      "execution_count": 6,
      "outputs": []
    },
    {
      "cell_type": "code",
      "metadata": {
        "colab": {
          "base_uri": "https://localhost:8080/"
        },
        "id": "q0y6cfI8hODC",
        "outputId": "f59d4d61-4ce2-4b02-f0d3-913f1e328391"
      },
      "source": [
        "print(len(Features))"
      ],
      "execution_count": null,
      "outputs": [
        {
          "output_type": "stream",
          "text": [
            "2722733\n"
          ],
          "name": "stdout"
        }
      ]
    },
    {
      "cell_type": "code",
      "metadata": {
        "colab": {
          "base_uri": "https://localhost:8080/"
        },
        "id": "AsCZ2baOjqpd",
        "outputId": "2355a0ba-6de8-48fb-bd99-76abd79dd8ef"
      },
      "source": [
        "#add dữ liệu vào trong annoy indexing\r\n",
        "\r\n",
        "f = 100\r\n",
        "t = AnnoyIndex(f)\r\n",
        "\r\n",
        "for i in range(1359671):\r\n",
        "    v = Features[i]\r\n",
        "    t.add_item(i, v)\r\n",
        "  \r\n",
        "f_ = 100\r\n",
        "t_ = AnnoyIndex(f_)\r\n",
        "\r\n",
        "for i in range(1359671, len(Features)):\r\n",
        "    v = Features[i]\r\n",
        "    t_.add_item(i, v)\r\n"
      ],
      "execution_count": null,
      "outputs": [
        {
          "output_type": "stream",
          "text": [
            "/usr/local/lib/python3.6/dist-packages/ipykernel_launcher.py:4: FutureWarning: The default argument for metric will be removed in future version of Annoy. Please pass metric='angular' explicitly.\n",
            "  after removing the cwd from sys.path.\n",
            "/usr/local/lib/python3.6/dist-packages/ipykernel_launcher.py:11: FutureWarning: The default argument for metric will be removed in future version of Annoy. Please pass metric='angular' explicitly.\n",
            "  # This is added back by InteractiveShellApp.init_path()\n"
          ],
          "name": "stderr"
        }
      ]
    },
    {
      "cell_type": "code",
      "metadata": {
        "colab": {
          "base_uri": "https://localhost:8080/"
        },
        "id": "o7119cz-jvxv",
        "outputId": "348d800a-7202-4288-8b8b-2b5f08de6a14"
      },
      "source": [
        "t.build(100) # 100 trees\r\n",
        "t.save('/content/drive/MyDrive/HocKy5/TruyVan/Final_TruyVan/Music.ann')\r\n",
        "\r\n",
        "t_.build(100)\r\n",
        "t_.save('/content/drive/MyDrive/HocKy5/TruyVan/Final_TruyVan/Music_.ann')"
      ],
      "execution_count": null,
      "outputs": [
        {
          "output_type": "execute_result",
          "data": {
            "text/plain": [
              "True"
            ]
          },
          "metadata": {
            "tags": []
          },
          "execution_count": 15
        }
      ]
    },
    {
      "cell_type": "code",
      "metadata": {
        "colab": {
          "base_uri": "https://localhost:8080/"
        },
        "id": "duzezXIdj6NV",
        "outputId": "11c58220-8f2f-4b08-acc1-5574f30d80a9"
      },
      "source": [
        "#Load\r\n",
        "f, f_ = 100, 100\r\n",
        "u = AnnoyIndex(f)\r\n",
        "u.load('/content/drive/MyDrive/HocKy5/TruyVan/Final_TruyVan/Music.ann')\r\n",
        "\r\n",
        "u_ = AnnoyIndex(f_)\r\n",
        "u_.load('/content/drive/MyDrive/HocKy5/TruyVan/Final_TruyVan/Music_.ann')"
      ],
      "execution_count": 7,
      "outputs": [
        {
          "output_type": "stream",
          "text": [
            "/usr/local/lib/python3.6/dist-packages/ipykernel_launcher.py:3: FutureWarning: The default argument for metric will be removed in future version of Annoy. Please pass metric='angular' explicitly.\n",
            "  This is separate from the ipykernel package so we can avoid doing imports until\n",
            "/usr/local/lib/python3.6/dist-packages/ipykernel_launcher.py:6: FutureWarning: The default argument for metric will be removed in future version of Annoy. Please pass metric='angular' explicitly.\n",
            "  \n"
          ],
          "name": "stderr"
        },
        {
          "output_type": "execute_result",
          "data": {
            "text/plain": [
              "True"
            ]
          },
          "metadata": {
            "tags": []
          },
          "execution_count": 7
        }
      ]
    },
    {
      "cell_type": "code",
      "metadata": {
        "id": "om71u7RDj9cX"
      },
      "source": [
        "song = '/content/drive/MyDrive/HocKy5/TruyVan/Final_TruyVan/DenDaKhongDuongBeat-AMee-Cut1.mp3'\r\n",
        "y, sr = librosa.load(song, sr = 16000)\r\n",
        "feat = extract_features(y)"
      ],
      "execution_count": 8,
      "outputs": []
    },
    {
      "cell_type": "code",
      "metadata": {
        "id": "q6wwvYUYkFy5"
      },
      "source": [
        "results = []\r\n",
        "for i in range(0, feat.shape[0], 10):\r\n",
        "    crop_feat = crop_feature(feat, i, nb_step=10)\r\n",
        "    result = u.get_nns_by_vector(crop_feat, n=5)\r\n",
        "    result_songs = [Songs[k] for k in result]\r\n",
        "    results.append(result_songs)\r\n",
        "\r\n",
        "for i in range(0, feat.shape[0], 10):\r\n",
        "    crop_feat = crop_feature(feat, i, nb_step=10)\r\n",
        "    result = u_.get_nns_by_vector(crop_feat, n=5)\r\n",
        "    result_songs = [Songs[k] for k in result]\r\n",
        "    results.append(result_songs)\r\n",
        "    \r\n",
        "results = np.array(results).flatten()"
      ],
      "execution_count": 9,
      "outputs": []
    },
    {
      "cell_type": "code",
      "metadata": {
        "colab": {
          "base_uri": "https://localhost:8080/"
        },
        "id": "1hYhAsfjkIT0",
        "outputId": "550245b3-405b-416a-e3d0-3b94720d3223"
      },
      "source": [
        "most_song = Counter(results)\r\n",
        "most_song.most_common()[:5]"
      ],
      "execution_count": 10,
      "outputs": [
        {
          "output_type": "execute_result",
          "data": {
            "text/plain": [
              "[('Đen Đá Không Đường.mp3', 482),\n",
              " ('Mãi Mãi Là Một Lời Nói Dối (Piano Version).mp3', 45),\n",
              " ('This City.mp3', 39),\n",
              " ('Star And Moon.mp3', 34),\n",
              " ('Hallelujah.mp3', 34)]"
            ]
          },
          "metadata": {
            "tags": []
          },
          "execution_count": 10
        }
      ]
    },
    {
      "cell_type": "markdown",
      "metadata": {
        "id": "MGSpqOkVJCiq"
      },
      "source": [
        "#Demo"
      ]
    },
    {
      "cell_type": "code",
      "metadata": {
        "id": "mZtFDEyqXlVs"
      },
      "source": [
        "def Demo(song):\r\n",
        "  start = time.time()\r\n",
        "  y, sr = librosa.load(song, sr = 16000)\r\n",
        "  feat = extract_features(y)\r\n",
        "  print('Thoi gian load file am thanh : ', time.time() - start)\r\n",
        "  results, ans = [], []\r\n",
        "  for i in range(0, feat.shape[0], 10):\r\n",
        "      crop_feat = crop_feature(feat, i, nb_step=10)\r\n",
        "      result = u.get_nns_by_vector(crop_feat, n=5)\r\n",
        "      result_songs = [Songs[k] for k in result]\r\n",
        "      results.append(result_songs)\r\n",
        "\r\n",
        "  for i in range(0, feat.shape[0], 10):\r\n",
        "      crop_feat = crop_feature(feat, i, nb_step=10)\r\n",
        "      result = u_.get_nns_by_vector(crop_feat, n=5)\r\n",
        "      result_songs = [Songs[k] for k in result]\r\n",
        "      results.append(result_songs)\r\n",
        "      \r\n",
        "  results = np.array(results).flatten()\r\n",
        "  most_song = Counter(results)\r\n",
        "  A = np.array(most_song.most_common()[:5])\r\n",
        "  Time = time.time() - start\r\n",
        "  print('Thoi gian truy van : ', Time)\r\n",
        "  for i in range(len(A)):\r\n",
        "    ans.append(A[i][0])\r\n",
        "  return ans\r\n",
        "  #print(np.array(ans).shape)"
      ],
      "execution_count": 33,
      "outputs": []
    },
    {
      "cell_type": "code",
      "metadata": {
        "id": "Hm1LEcSig37D",
        "colab": {
          "base_uri": "https://localhost:8080/"
        },
        "outputId": "951df20f-9580-4dc2-e577-07c1a52a9628"
      },
      "source": [
        "song = input('Path to song: ')\r\n",
        "#Audio(song)"
      ],
      "execution_count": 34,
      "outputs": [
        {
          "output_type": "stream",
          "text": [
            "Path to song: /content/drive/MyDrive/HocKy5/TruyVan/Final_TruyVan/DenDaKhongDuongBeat-AMee-Cut1.mp3\n"
          ],
          "name": "stdout"
        }
      ]
    },
    {
      "cell_type": "code",
      "metadata": {
        "id": "CZZ0g2Y3gPf2",
        "colab": {
          "base_uri": "https://localhost:8080/"
        },
        "outputId": "e9dba532-9b14-40b2-dc17-0cce8729f920"
      },
      "source": [
        "A = Demo(song)"
      ],
      "execution_count": 35,
      "outputs": [
        {
          "output_type": "stream",
          "text": [
            "Thoi gian load file am thanh :  4.691673040390015\n",
            "Thoi gian truy van :  5.010399103164673\n"
          ],
          "name": "stdout"
        }
      ]
    },
    {
      "cell_type": "code",
      "metadata": {
        "colab": {
          "base_uri": "https://localhost:8080/"
        },
        "id": "krqHmjMUYp0x",
        "outputId": "6a7b832b-5f1f-4617-8766-816bc09971ba"
      },
      "source": [
        "print(A)"
      ],
      "execution_count": 36,
      "outputs": [
        {
          "output_type": "stream",
          "text": [
            "['Đen Đá Không Đường.mp3', 'Mãi Mãi Là Một Lời Nói Dối (Piano Version).mp3', 'This City.mp3', 'Star And Moon.mp3', 'Hallelujah.mp3']\n"
          ],
          "name": "stdout"
        }
      ]
    },
    {
      "cell_type": "code",
      "metadata": {
        "id": "Vl0va-Aazs52",
        "colab": {
          "base_uri": "https://localhost:8080/"
        },
        "outputId": "8017c9be-e673-4981-a2c6-83d5b721190c"
      },
      "source": [
        "# from app import app\r\n",
        "# import urllib.request\r\n",
        "\r\n",
        "path_f = '/content/static/music'\r\n",
        "\r\n",
        "ALLOWED_EXTENSIONS = set(['wav','mp3'])\r\n",
        "\r\n",
        "\r\n",
        "UPLOAD_FOLDER = 'static/music/'\r\n",
        "\r\n",
        "app = Flask(__name__)\r\n",
        "run_with_ngrok(app)\r\n",
        "app.secret_key = \"secret key\"\r\n",
        "app.config['UPLOAD_FOLDER'] = UPLOAD_FOLDER\r\n",
        "app.config['MAX_CONTENT_LENGTH'] = 16 * 1024 * 1024\r\n",
        "\r\n",
        "\r\n",
        "def allowed_file(filename):\r\n",
        "\treturn '.' in filename and filename.rsplit('.', 1)[1].lower() in ALLOWED_EXTENSIONS\r\n",
        "\t\r\n",
        "@app.route('/')\r\n",
        "def upload_form():\r\n",
        "\treturn render_template('index2.html')\r\n",
        "\r\n",
        "@app.route('/', methods=['POST'])\r\n",
        "def upload_image():\r\n",
        "\tif 'file' not in request.files:\r\n",
        "\t\tflash('No file part')\r\n",
        "\t\treturn redirect(request.url)\r\n",
        "\tfile = request.files['file']\r\n",
        "\tif file.filename == '':\r\n",
        "\t\tflash('No image selected for uploading')\r\n",
        "\t\treturn redirect(request.url)\r\n",
        "\tif file and allowed_file(file.filename):\r\n",
        "\t\tfilename = secure_filename(file.filename)\r\n",
        "\t\tfile.save(os.path.join(app.config['UPLOAD_FOLDER'], filename))\r\n",
        "\t\t#print('upload_image filename: ' + filename)\r\n",
        "\t\tflash('successfully uploaded')\r\n",
        "\t\tresult = Demo(os.path.join(path_f, filename))\r\n",
        "\t\t# , result0=result[0],result1=result[1],result2=result[2],result3=result[3],result4=result[4]\r\n",
        "\t\treturn render_template('index2.html', filename=filename, result= result)\r\n",
        "\telse:\r\n",
        "\t\tflash('Allowed image types are -> wav,mp3')\r\n",
        "\t\treturn redirect(request.url)\r\n",
        "\r\n",
        "@app.route('/display/<filename>')\r\n",
        "def display_image(filename):\r\n",
        "\t#print('display_image filename: ' + filename)\r\n",
        "\treturn redirect(url_for('static', filename='music/' + filename), code=301)\r\n",
        "\r\n",
        "if __name__ == \"__main__\":\r\n",
        "    app.run()"
      ],
      "execution_count": 37,
      "outputs": [
        {
          "output_type": "stream",
          "text": [
            " * Serving Flask app \"__main__\" (lazy loading)\n",
            " * Environment: production\n",
            "\u001b[31m   WARNING: This is a development server. Do not use it in a production deployment.\u001b[0m\n",
            "\u001b[2m   Use a production WSGI server instead.\u001b[0m\n",
            " * Debug mode: off\n"
          ],
          "name": "stdout"
        },
        {
          "output_type": "stream",
          "text": [
            " * Running on http://127.0.0.1:5000/ (Press CTRL+C to quit)\n"
          ],
          "name": "stderr"
        },
        {
          "output_type": "stream",
          "text": [
            " * Running on http://d38b6d0d7e97.ngrok.io\n",
            " * Traffic stats available on http://127.0.0.1:4040\n"
          ],
          "name": "stdout"
        },
        {
          "output_type": "stream",
          "text": [
            "127.0.0.1 - - [17/Jan/2021 12:48:52] \"\u001b[37mGET / HTTP/1.1\u001b[0m\" 200 -\n",
            "127.0.0.1 - - [17/Jan/2021 12:48:53] \"\u001b[33mGET /favicon.ico HTTP/1.1\u001b[0m\" 404 -\n"
          ],
          "name": "stderr"
        },
        {
          "output_type": "stream",
          "text": [
            "Thoi gian load file am thanh :  4.776996612548828\n"
          ],
          "name": "stdout"
        },
        {
          "output_type": "stream",
          "text": [
            "127.0.0.1 - - [17/Jan/2021 12:49:07] \"\u001b[37mPOST / HTTP/1.1\u001b[0m\" 200 -\n"
          ],
          "name": "stderr"
        },
        {
          "output_type": "stream",
          "text": [
            "Thoi gian truy van :  5.178508043289185\n"
          ],
          "name": "stdout"
        },
        {
          "output_type": "stream",
          "text": [
            "127.0.0.1 - - [17/Jan/2021 12:49:09] \"\u001b[32mGET /display/DenDaKhongDuongBeat-AMee-Cut1.mp3 HTTP/1.1\u001b[0m\" 301 -\n",
            "127.0.0.1 - - [17/Jan/2021 12:49:09] \"\u001b[37mGET /static/music/DenDaKhongDuongBeat-AMee-Cut1.mp3 HTTP/1.1\u001b[0m\" 206 -\n"
          ],
          "name": "stderr"
        }
      ]
    },
    {
      "cell_type": "code",
      "metadata": {
        "id": "_a5G807DotN5"
      },
      "source": [
        ""
      ],
      "execution_count": null,
      "outputs": []
    }
  ]
}