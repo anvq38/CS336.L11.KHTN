{
  "nbformat": 4,
  "nbformat_minor": 0,
  "metadata": {
    "colab": {
      "name": "Final_TruyVan.ipynb",
      "provenance": [],
      "collapsed_sections": [],
      "authorship_tag": "ABX9TyNLOwu7SqjxKgiEtnfbJ102",
      "include_colab_link": true
    },
    "kernelspec": {
      "display_name": "Python 3",
      "name": "python3"
    }
  },
  "cells": [
    {
      "cell_type": "markdown",
      "metadata": {
        "id": "view-in-github",
        "colab_type": "text"
      },
      "source": [
        "<a href=\"https://colab.research.google.com/github/anvq38/CS336.L11.KHTN/blob/main/Final_TruyVan.ipynb\" target=\"_parent\"><img src=\"https://colab.research.google.com/assets/colab-badge.svg\" alt=\"Open In Colab\"/></a>"
      ]
    },
    {
      "cell_type": "code",
      "metadata": {
        "colab": {
          "base_uri": "https://localhost:8080/"
        },
        "id": "q1Xip2OvaaMG",
        "outputId": "a65b5fc4-aa52-4013-b346-19e14dacb692"
      },
      "source": [
        "from google.colab import drive\r\n",
        "drive.mount('/content/drive')"
      ],
      "execution_count": 1,
      "outputs": [
        {
          "output_type": "stream",
          "text": [
            "Mounted at /content/drive\n"
          ],
          "name": "stdout"
        }
      ]
    },
    {
      "cell_type": "code",
      "metadata": {
        "id": "ECa98k4sahI0"
      },
      "source": [
        "!pip install librosa python_speech_features flask_ngrok flask Flask annoy"
      ],
      "execution_count": null,
      "outputs": []
    },
    {
      "cell_type": "code",
      "metadata": {
        "id": "K5T36KBta1G2"
      },
      "source": [
        "import os\r\n",
        "import glob\r\n",
        "import librosa\r\n",
        "from tqdm import tqdm\r\n",
        "import numpy as np\r\n",
        "from python_speech_features import mfcc, fbank, logfbank\r\n",
        "import pickle\r\n",
        "from IPython.display import Audio\r\n",
        "import pickle\r\n",
        "from annoy import AnnoyIndex\r\n",
        "import time\r\n",
        "from collections import Counter\r\n",
        "from flask import Flask, flash, request, redirect, url_for, render_template\r\n",
        "from werkzeug.utils import secure_filename\r\n",
        "from flask_ngrok import run_with_ngrok"
      ],
      "execution_count": 60,
      "outputs": []
    },
    {
      "cell_type": "code",
      "metadata": {
        "id": "GQlQgad4a3jJ"
      },
      "source": [
        "song = '/content/drive/MyDrive/SongData/Bông Hoa Đẹp Nhất.mp3'\r\n",
        "y, sr = librosa.load(song, sr=16000)"
      ],
      "execution_count": 38,
      "outputs": []
    },
    {
      "cell_type": "code",
      "metadata": {
        "colab": {
          "base_uri": "https://localhost:8080/"
        },
        "id": "2mScSWlWbGaA",
        "outputId": "01d97d64-89ff-4ba1-b5aa-1144e87eebdb"
      },
      "source": [
        "print(y)"
      ],
      "execution_count": 39,
      "outputs": [
        {
          "output_type": "stream",
          "text": [
            "[ 8.1506022e-07 -3.9518400e-06 -2.4500309e-06 ...  2.0912436e-05\n",
            " -1.1530862e-05  0.0000000e+00]\n"
          ],
          "name": "stdout"
        }
      ]
    },
    {
      "cell_type": "markdown",
      "metadata": {
        "id": "Yjz4q9ie8GA1"
      },
      "source": [
        "#Difine function"
      ]
    },
    {
      "cell_type": "code",
      "metadata": {
        "id": "3q9Jm2wAa9yn"
      },
      "source": [
        "def extract_features(y, sr=16000, nfilt=10, winsteps=0.02):\r\n",
        "    try:\r\n",
        "        feat = mfcc(y, sr, nfilt=nfilt, winstep=winsteps)\r\n",
        "        return feat\r\n",
        "    except:\r\n",
        "        raise Exception(\"Extraction feature error\")"
      ],
      "execution_count": 61,
      "outputs": []
    },
    {
      "cell_type": "code",
      "metadata": {
        "id": "HF830g3ca_qj"
      },
      "source": [
        "def crop_feature(feat, i = 0, nb_step=10, maxlen=100):\r\n",
        "    crop_feat = np.array(feat[i : i + nb_step]).flatten()\r\n",
        "    #print(crop_feat.shape)\r\n",
        "    crop_feat = np.pad(crop_feat, (0, maxlen - len(crop_feat)), mode='constant')\r\n",
        "    return crop_feat"
      ],
      "execution_count": 62,
      "outputs": []
    },
    {
      "cell_type": "code",
      "metadata": {
        "colab": {
          "base_uri": "https://localhost:8080/"
        },
        "id": "mE3My_YNbMw1",
        "outputId": "28a7df76-e74a-45d6-b2fd-13f80f772665"
      },
      "source": [
        "y, sr = librosa.load('/content/drive/MyDrive/HocKy5/TruyVan/Final_TruyVan/DenDaKhongDuongBeat-AMee-Cut2.mp3', sr=16000)\r\n",
        "feat = extract_features(y)\r\n",
        "print(feat.shape)\r\n",
        "#print(crop_feature(feat))"
      ],
      "execution_count": 42,
      "outputs": [
        {
          "output_type": "stream",
          "text": [
            "(4950, 10)\n"
          ],
          "name": "stdout"
        }
      ]
    },
    {
      "cell_type": "markdown",
      "metadata": {
        "id": "krEYA1Ty8MGy"
      },
      "source": [
        "#Load Song"
      ]
    },
    {
      "cell_type": "code",
      "metadata": {
        "id": "2PqIVoShb0tf"
      },
      "source": [
        "data_dir = '/content/drive/MyDrive/SongData'"
      ],
      "execution_count": 43,
      "outputs": []
    },
    {
      "cell_type": "code",
      "metadata": {
        "id": "dwBjjulTbQcb"
      },
      "source": [
        "def Load_songs(data_dir):\r\n",
        "  features = []\r\n",
        "  songs = []\r\n",
        "  for song in tqdm(os.listdir(data_dir)):\r\n",
        "    if song.endswith('.mp3') or song.endswith('.MP3'):\r\n",
        "      song = os.path.join(data_dir, song)\r\n",
        "      y, sr = librosa.load(song, sr=16000)\r\n",
        "      feat = extract_features(y)\r\n",
        "      for i in range(0, feat.shape[0] - 10, 5):\r\n",
        "        features.append(crop_feature(feat, i, nb_step=10))\r\n",
        "        songs.append(song[32:])\r\n",
        "  return features, songs"
      ],
      "execution_count": null,
      "outputs": []
    },
    {
      "cell_type": "code",
      "metadata": {
        "colab": {
          "background_save": true,
          "base_uri": "https://localhost:8080/"
        },
        "id": "MqTNQYs3cC0j",
        "outputId": "52ecac8f-0d16-41d3-f2b8-294a7ea0968d"
      },
      "source": [
        "Features, Songs = Load_songs(data_dir)"
      ],
      "execution_count": null,
      "outputs": [
        {
          "output_type": "stream",
          "text": [
            "100%|██████████| 1070/1070 [4:13:11<00:00, 14.20s/it]\n"
          ],
          "name": "stderr"
        }
      ]
    },
    {
      "cell_type": "markdown",
      "metadata": {
        "id": "2A7cVjIH8QHW"
      },
      "source": [
        "##Save Features, Songs to drive"
      ]
    },
    {
      "cell_type": "code",
      "metadata": {
        "id": "gcX0AFxEcTmk"
      },
      "source": [
        "pickle.dump(Features, open('/content/drive/MyDrive/HocKy5/TruyVan/Final_TruyVan/features.pk', 'wb'))\r\n",
        "\r\n",
        "pickle.dump(Songs, open('/content/drive/MyDrive/HocKy5/TruyVan/Final_TruyVan/songs.pk', 'wb'))"
      ],
      "execution_count": null,
      "outputs": []
    },
    {
      "cell_type": "markdown",
      "metadata": {
        "id": "OeILPbl98YRa"
      },
      "source": [
        "# Load: Feature, Songs from drive"
      ]
    },
    {
      "cell_type": "code",
      "metadata": {
        "id": "BNIEKGyDVKgA"
      },
      "source": [
        "Features = pickle.load(open('/content/drive/MyDrive/HocKy5/TruyVan/Final_TruyVan/features.pk', 'rb'))\r\n",
        "Songs = pickle.load(open('/content/drive/MyDrive/HocKy5/TruyVan/Final_TruyVan/songs.pk', 'rb'))"
      ],
      "execution_count": 63,
      "outputs": []
    },
    {
      "cell_type": "code",
      "metadata": {
        "colab": {
          "base_uri": "https://localhost:8080/"
        },
        "id": "q0y6cfI8hODC",
        "outputId": "699961a9-8284-4cd3-821a-924f120acd45"
      },
      "source": [
        "print(len(Features))"
      ],
      "execution_count": 64,
      "outputs": [
        {
          "output_type": "stream",
          "text": [
            "2722733\n"
          ],
          "name": "stdout"
        }
      ]
    },
    {
      "cell_type": "markdown",
      "metadata": {
        "id": "af9oTFLV9KgF"
      },
      "source": [
        "#Truy vấn bằng Annoy"
      ]
    },
    {
      "cell_type": "markdown",
      "metadata": {
        "id": "f8kA0s_38jL6"
      },
      "source": [
        "##Add dữ liệu vào trong annoy indexing"
      ]
    },
    {
      "cell_type": "code",
      "metadata": {
        "id": "AsCZ2baOjqpd"
      },
      "source": [
        "#add dữ liệu vào trong annoy indexing\r\n",
        "\r\n",
        "f = 100\r\n",
        "t = AnnoyIndex(f)\r\n",
        "\r\n",
        "for i in range(1359671):\r\n",
        "    v = Features[i]\r\n",
        "    t.add_item(i, v)\r\n",
        "  \r\n",
        "f_ = 100\r\n",
        "t_ = AnnoyIndex(f_)\r\n",
        "\r\n",
        "for i in range(1359671, len(Features)):\r\n",
        "    v = Features[i]\r\n",
        "    t_.add_item(i, v)\r\n"
      ],
      "execution_count": null,
      "outputs": []
    },
    {
      "cell_type": "markdown",
      "metadata": {
        "id": "URRFLtPn8tZa"
      },
      "source": [
        "##Tạo cây index"
      ]
    },
    {
      "cell_type": "code",
      "metadata": {
        "colab": {
          "base_uri": "https://localhost:8080/"
        },
        "id": "o7119cz-jvxv",
        "outputId": "348d800a-7202-4288-8b8b-2b5f08de6a14"
      },
      "source": [
        "t.build(100) # 100 trees\r\n",
        "t.save('/content/drive/MyDrive/HocKy5/TruyVan/Final_TruyVan/Music.ann')\r\n",
        "\r\n",
        "t_.build(100)\r\n",
        "t_.save('/content/drive/MyDrive/HocKy5/TruyVan/Final_TruyVan/Music_.ann')"
      ],
      "execution_count": null,
      "outputs": [
        {
          "output_type": "execute_result",
          "data": {
            "text/plain": [
              "True"
            ]
          },
          "metadata": {
            "tags": []
          },
          "execution_count": 15
        }
      ]
    },
    {
      "cell_type": "markdown",
      "metadata": {
        "id": "FbPvyagr86KD"
      },
      "source": [
        "#Load trees from drive"
      ]
    },
    {
      "cell_type": "code",
      "metadata": {
        "id": "duzezXIdj6NV"
      },
      "source": [
        "#Load\r\n",
        "f, f_ = 100, 100\r\n",
        "u = AnnoyIndex(f)\r\n",
        "u.load('/content/drive/MyDrive/HocKy5/TruyVan/Final_TruyVan/Music.ann')\r\n",
        "\r\n",
        "u_ = AnnoyIndex(f_)\r\n",
        "u_.load('/content/drive/MyDrive/HocKy5/TruyVan/Final_TruyVan/Music_.ann')"
      ],
      "execution_count": null,
      "outputs": []
    },
    {
      "cell_type": "markdown",
      "metadata": {
        "id": "MGSpqOkVJCiq"
      },
      "source": [
        "#Demo"
      ]
    },
    {
      "cell_type": "code",
      "metadata": {
        "id": "mZtFDEyqXlVs"
      },
      "source": [
        "def Demo(song):\r\n",
        "  start = time.time()\r\n",
        "  y, sr = librosa.load(song, sr = 16000)\r\n",
        "  feat = extract_features(y)\r\n",
        "  print('Thoi gian load file am thanh : ', time.time() - start)\r\n",
        "  results, ans = [], []\r\n",
        "  for i in range(0, feat.shape[0], 10):\r\n",
        "      crop_feat = crop_feature(feat, i, nb_step=10)\r\n",
        "      result = u.get_nns_by_vector(crop_feat, n=5)\r\n",
        "      result_songs = [Songs[k] for k in result]\r\n",
        "      results.append(result_songs)\r\n",
        "\r\n",
        "  for i in range(0, feat.shape[0], 10):\r\n",
        "      crop_feat = crop_feature(feat, i, nb_step=10)\r\n",
        "      result = u_.get_nns_by_vector(crop_feat, n=5)\r\n",
        "      result_songs = [Songs[k] for k in result]\r\n",
        "      results.append(result_songs)\r\n",
        "      \r\n",
        "  results = np.array(results).flatten()\r\n",
        "  most_song = Counter(results)\r\n",
        "  A = np.array(most_song.most_common()[:5])\r\n",
        "  Time = time.time() - start\r\n",
        "  print('Thoi gian truy van : ', Time)\r\n",
        "  for i in range(len(A)):\r\n",
        "    ans.append(A[i][0])\r\n",
        "  return ans\r\n",
        "  #print(np.array(ans).shape)"
      ],
      "execution_count": 66,
      "outputs": []
    },
    {
      "cell_type": "code",
      "metadata": {
        "id": "Hm1LEcSig37D",
        "colab": {
          "base_uri": "https://localhost:8080/"
        },
        "outputId": "df56bfc6-a2c6-4cfb-aef6-dd26e81da666"
      },
      "source": [
        "song = input('Path to song: ')\r\n",
        "print(Demo(song))"
      ],
      "execution_count": 67,
      "outputs": [
        {
          "output_type": "stream",
          "text": [
            "Path to song: /content/drive/MyDrive/HocKy5/TruyVan/Final_TruyVan/DenDaKhongDuongBeat-AMee-Cut1.mp3\n",
            "Thoi gian load file am thanh :  6.263116359710693\n",
            "Thoi gian truy van :  70.6675922870636\n",
            "['Đen Đá Không Đường.mp3', 'Mãi Mãi Là Một Lời Nói Dối (Piano Version).mp3', 'This City.mp3', 'Star And Moon.mp3', 'Hallelujah.mp3']\n"
          ],
          "name": "stdout"
        }
      ]
    },
    {
      "cell_type": "markdown",
      "metadata": {
        "id": "hVwdhtOq9GPf"
      },
      "source": [
        "#Flask"
      ]
    },
    {
      "cell_type": "code",
      "metadata": {
        "id": "Vl0va-Aazs52",
        "colab": {
          "base_uri": "https://localhost:8080/"
        },
        "outputId": "dea0783d-6726-4a7a-ed84-40ee7f9cb17b"
      },
      "source": [
        "# from app import app\r\n",
        "# import urllib.request\r\n",
        "\r\n",
        "path_f = '/content/static/music'\r\n",
        "\r\n",
        "ALLOWED_EXTENSIONS = set(['wav','mp3'])\r\n",
        "\r\n",
        "\r\n",
        "UPLOAD_FOLDER = 'static/music/'\r\n",
        "\r\n",
        "app = Flask(__name__)\r\n",
        "run_with_ngrok(app)\r\n",
        "app.secret_key = \"secret key\"\r\n",
        "app.config['UPLOAD_FOLDER'] = UPLOAD_FOLDER\r\n",
        "app.config['MAX_CONTENT_LENGTH'] = 16 * 1024 * 1024\r\n",
        "\r\n",
        "\r\n",
        "def allowed_file(filename):\r\n",
        "\treturn '.' in filename and filename.rsplit('.', 1)[1].lower() in ALLOWED_EXTENSIONS\r\n",
        "\t\r\n",
        "@app.route('/')\r\n",
        "def upload_form():\r\n",
        "\treturn render_template('index2.html')\r\n",
        "\r\n",
        "@app.route('/', methods=['POST'])\r\n",
        "def upload_image():\r\n",
        "\tif 'file' not in request.files:\r\n",
        "\t\tflash('No file part')\r\n",
        "\t\treturn redirect(request.url)\r\n",
        "\tfile = request.files['file']\r\n",
        "\tif file.filename == '':\r\n",
        "\t\tflash('No image selected for uploading')\r\n",
        "\t\treturn redirect(request.url)\r\n",
        "\tif file and allowed_file(file.filename):\r\n",
        "\t\tfilename = secure_filename(file.filename)\r\n",
        "\t\tfile.save(os.path.join(app.config['UPLOAD_FOLDER'], filename))\r\n",
        "\t\t#print('upload_image filename: ' + filename)\r\n",
        "\t\tflash('successfully uploaded')\r\n",
        "\t\tresult = Demo(os.path.join(path_f, filename))\r\n",
        "\t\t# , result0=result[0],result1=result[1],result2=result[2],result3=result[3],result4=result[4]\r\n",
        "\t\treturn render_template('index2.html', filename=filename, result= result)\r\n",
        "\telse:\r\n",
        "\t\tflash('Allowed image types are -> wav,mp3')\r\n",
        "\t\treturn redirect(request.url)\r\n",
        "\r\n",
        "@app.route('/display/<filename>')\r\n",
        "def display_image(filename):\r\n",
        "\t#print('display_image filename: ' + filename)\r\n",
        "\treturn redirect(url_for('static', filename='music/' + filename), code=301)\r\n",
        "\r\n",
        "if __name__ == \"__main__\":\r\n",
        "    app.run()"
      ],
      "execution_count": 59,
      "outputs": [
        {
          "output_type": "stream",
          "text": [
            " * Serving Flask app \"__main__\" (lazy loading)\n",
            " * Environment: production\n",
            "\u001b[31m   WARNING: This is a development server. Do not use it in a production deployment.\u001b[0m\n",
            "\u001b[2m   Use a production WSGI server instead.\u001b[0m\n",
            " * Debug mode: off\n"
          ],
          "name": "stdout"
        },
        {
          "output_type": "stream",
          "text": [
            " * Running on http://127.0.0.1:5000/ (Press CTRL+C to quit)\n"
          ],
          "name": "stderr"
        },
        {
          "output_type": "stream",
          "text": [
            " * Running on http://a23477c9ab7a.ngrok.io\n",
            " * Traffic stats available on http://127.0.0.1:4040\n"
          ],
          "name": "stdout"
        },
        {
          "output_type": "stream",
          "text": [
            "127.0.0.1 - - [17/Jan/2021 14:27:11] \"\u001b[37mGET / HTTP/1.1\u001b[0m\" 200 -\n",
            "127.0.0.1 - - [17/Jan/2021 14:27:12] \"\u001b[33mGET /favicon.ico HTTP/1.1\u001b[0m\" 404 -\n"
          ],
          "name": "stderr"
        },
        {
          "output_type": "stream",
          "text": [
            "Thoi gian load file am thanh :  4.8750762939453125\n"
          ],
          "name": "stdout"
        },
        {
          "output_type": "stream",
          "text": [
            "127.0.0.1 - - [17/Jan/2021 14:27:28] \"\u001b[37mPOST / HTTP/1.1\u001b[0m\" 200 -\n"
          ],
          "name": "stderr"
        },
        {
          "output_type": "stream",
          "text": [
            "Thoi gian truy van :  5.212013483047485\n"
          ],
          "name": "stdout"
        },
        {
          "output_type": "stream",
          "text": [
            "127.0.0.1 - - [17/Jan/2021 14:27:28] \"\u001b[32mGET /display/DenDaKhongDuongBeat-AMee-Cut1.mp3 HTTP/1.1\u001b[0m\" 301 -\n"
          ],
          "name": "stderr"
        }
      ]
    },
    {
      "cell_type": "code",
      "metadata": {
        "id": "_a5G807DotN5"
      },
      "source": [
        "pip freeze > requirements.txt"
      ],
      "execution_count": 70,
      "outputs": []
    }
  ]
}